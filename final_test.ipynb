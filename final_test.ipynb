{
 "cells": [
  {
   "cell_type": "code",
   "execution_count": 3,
   "id": "861e6c16",
   "metadata": {},
   "outputs": [],
   "source": [
    "import nidaqmx\n",
    "import time\n",
    "import ipywidgets as widgets\n",
    "from IPython.display import display\n",
    "from ipywidgets import HBox, VBox\n",
    "import numpy as np\n",
    "from pylablib.devices import Attocube as anc"
   ]
  },
  {
   "cell_type": "code",
   "execution_count": 5,
   "id": "8c6c2dd5",
   "metadata": {},
   "outputs": [
    {
     "ename": "IndentationError",
     "evalue": "unindent does not match any outer indentation level (<tokenize>, line 50)",
     "output_type": "error",
     "traceback": [
      "\u001b[1;36m  File \u001b[1;32m<tokenize>:50\u001b[1;36m\u001b[0m\n\u001b[1;33m    x_start = x_start + steps\u001b[0m\n\u001b[1;37m    ^\u001b[0m\n\u001b[1;31mIndentationError\u001b[0m\u001b[1;31m:\u001b[0m unindent does not match any outer indentation level\n"
     ]
    }
   ],
   "source": [
    "def move_xy_location(x_current_location, x_new_location, y_current_location, y_new_location):\n",
    "    if (x_new_location == x_current_location and x_current_location != 0) and  (y_new_location == y_current_location and y_current_location != 0):\n",
    "        print(\"New location must be different from current location\")\n",
    "        return\n",
    "    else:\n",
    "        steps = x_new_location\n",
    "        # anc.set_offset(1, x_new_location * 0.1)\n",
    "        x_current_location = x_new_location\n",
    "        steps = y_new_location\n",
    "        # anc.set_offset(2, y_new_location * 0.1)\n",
    "        y_current_location = y_new_location\n",
    "        return x_current_location, y_current_location\n",
    "\n",
    "# ***************** Make a raster scan ********************\n",
    "\n",
    "def scan(res, x_start, y_start, x_end, y_end, x_current_location, y_current_location):\n",
    "    x_locations = []\n",
    "    y_locations = []\n",
    "    x_off_locations = []\n",
    "    y_off_locations = []\n",
    "    #make sure the input is correct\n",
    "    if x_start > x_end or y_start > y_end:\n",
    "        print(\"starting position must be less than ending position\")\n",
    "        return\n",
    "#determine how many stapes to take in one move based on the value of from the resolution\n",
    "    steps = res\n",
    "    print('steps:', steps)\n",
    "    # number of loops required for the given scan\n",
    "    x_loop_len = int((x_end - x_start) / steps)\n",
    "    y_loop_len = int((y_end - y_start) / steps)\n",
    "    #determine if the step is too high\n",
    "    if steps > (y_end - y_start) or steps > (x_end - x_start):\n",
    "        print(\"Resolution too small: the step taken is bigger than the area given \")\n",
    "        return\n",
    "    #move the stage to the starting position\n",
    "    if x_current_location != x_start or y_current_location != y_start:\n",
    "        x_start = move_xy_location(x_current_location, xstart.value, y_current_location, ystart.value)[0]\n",
    "        y_start = move_xy_location(x_current_location, xstart.value, y_current_location, ystart.value)[1]\n",
    "       \n",
    "    #loops required for the given scan just to show\n",
    "    print(\"x loop:\", x_loop_len)\n",
    "    print(\"y loop:\", y_loop_len)\n",
    "    temp = x_start\n",
    "    for y in range(0, int(y_loop_len + 1)):\n",
    "        for x in range(0, int(x_loop_len)):\n",
    "            # anc.set_offset(1, x_start * 0.1)\n",
    "            # x_off_location = anc.get_offset(1)\n",
    "            # x_off_locations.append = x_off_location\n",
    "             print(\"x: \", x_start, \"in nm\", x_in_nm)\n",
    "            x_start = x_start + steps\n",
    "            x_in_nm = x_start * 20\n",
    "           \n",
    "            x_locations.append(x_start)\n",
    "            y_locations.append(y_start)\n",
    "            time.sleep(0.0001)\n",
    "        x_start = temp\n",
    "        # anc.set_offset(2, y_start * 0.1)\n",
    "        # y_off_location = anc.get_offset(1)\n",
    "        # y_off_locations.append = y_off_location\n",
    "        y_start = y_start + steps\n",
    "        y_in_nm = y_start * 20\n",
    "        print(\"      y: \", y_start, \"in nm\", y_in_nm)\n",
    "        # y_locations.append(y_start)\n",
    "        time.sleep(0.0001)\n",
    "        x_current_location = x_start\n",
    "        y_current_location = y_start\n",
    "        arr = np.column_stack((x_locations, y_locations))\n",
    "\n",
    "    return x_current_location, y_current_location, arr\n",
    "\n",
    "def scan_on_click(self):\n",
    "    scan(res.value, xstart.value, ystart.value, xend.value, yend.value, x_current_location, y_current_location)\n",
    "    print( scan(res.value, xstart.value, ystart.value, xend.value, yend.value, x_current_location, y_current_location))\n",
    "def move_on_click(self):\n",
    "    move_xy_location(x_current_location, xmove.value, y_current_location, ymove.value)\n",
    "    print(move_xy_location(x_current_location, xmove.value, y_current_location, ymove.value))\n",
    "def reset_on_click(self):\n",
    "    move_xy_location(x_current_location, 0, y_current_location,0)\n",
    "    print(move_xy_location(x_current_location, 0, y_current_location,0))\n",
    "    "
   ]
  },
  {
   "cell_type": "code",
   "execution_count": 6,
   "id": "cc322d50",
   "metadata": {},
   "outputs": [
    {
     "ename": "NameError",
     "evalue": "name 'scan_on_click' is not defined",
     "output_type": "error",
     "traceback": [
      "\u001b[1;31m---------------------------------------------------------------------------\u001b[0m",
      "\u001b[1;31mNameError\u001b[0m                                 Traceback (most recent call last)",
      "Input \u001b[1;32mIn [6]\u001b[0m, in \u001b[0;36m<cell line: 60>\u001b[1;34m()\u001b[0m\n\u001b[0;32m     44\u001b[0m xmove \u001b[38;5;241m=\u001b[39m widgets\u001b[38;5;241m.\u001b[39mBoundedIntText(\n\u001b[0;32m     45\u001b[0m     value \u001b[38;5;241m=\u001b[39m \u001b[38;5;241m0\u001b[39m,\n\u001b[0;32m     46\u001b[0m     \u001b[38;5;28mmin\u001b[39m \u001b[38;5;241m=\u001b[39m \u001b[38;5;241m0\u001b[39m,\n\u001b[1;32m   (...)\u001b[0m\n\u001b[0;32m     50\u001b[0m     disabled\u001b[38;5;241m=\u001b[39m\u001b[38;5;28;01mFalse\u001b[39;00m\n\u001b[0;32m     51\u001b[0m )\n\u001b[0;32m     52\u001b[0m ymove \u001b[38;5;241m=\u001b[39m widgets\u001b[38;5;241m.\u001b[39mBoundedIntText(\n\u001b[0;32m     53\u001b[0m    value \u001b[38;5;241m=\u001b[39m \u001b[38;5;241m0\u001b[39m,\n\u001b[0;32m     54\u001b[0m     \u001b[38;5;28mmin\u001b[39m \u001b[38;5;241m=\u001b[39m \u001b[38;5;241m0\u001b[39m,\n\u001b[1;32m   (...)\u001b[0m\n\u001b[0;32m     58\u001b[0m     disabled\u001b[38;5;241m=\u001b[39m\u001b[38;5;28;01mFalse\u001b[39;00m\n\u001b[0;32m     59\u001b[0m )\n\u001b[1;32m---> 60\u001b[0m scanner\u001b[38;5;241m.\u001b[39mon_click(\u001b[43mscan_on_click\u001b[49m)\n\u001b[0;32m     61\u001b[0m mover\u001b[38;5;241m.\u001b[39mon_click(move_on_click)\n\u001b[0;32m     62\u001b[0m reset\u001b[38;5;241m.\u001b[39mon_click(reset_on_click)\n",
      "\u001b[1;31mNameError\u001b[0m: name 'scan_on_click' is not defined"
     ]
    }
   ],
   "source": [
    "output = widgets.Output()\n",
    "scanner = widgets.Button(description=\"Scan\")\n",
    "mover = widgets.Button(description=\"Move\")\n",
    "reset = widgets.Button(description=\"Reset\")\n",
    "\n",
    "res = widgets.BoundedFloatText(\n",
    "    min = 1, \n",
    "    max = 1500,\n",
    "    description='Resolution:',\n",
    ")\n",
    "xstart = widgets.BoundedIntText(\n",
    "    value = 0,\n",
    "    min = 0,\n",
    "    max = 1500,\n",
    "    step = 1,\n",
    "    description='X Start:',\n",
    "    disabled=False\n",
    ")\n",
    "\n",
    "ystart = widgets.BoundedIntText(\n",
    "   value = 0,\n",
    "    min = 0,\n",
    "    max = 1500,\n",
    "    step = 1,\n",
    "    description='Y Start:',\n",
    "    disabled=False\n",
    ")\n",
    "xend = widgets.BoundedIntText(\n",
    "     value = 0,\n",
    "    min = 0,\n",
    "    max = 1500,\n",
    "    step = 1,\n",
    "    description='X End :',\n",
    "    disabled=False\n",
    ")\n",
    "yend = widgets.BoundedIntText(\n",
    "    value = 0,\n",
    "    min = 0,\n",
    "    max = 1500,\n",
    "    step = 1,\n",
    "    description='Y End :',\n",
    "    disabled=False\n",
    ")\n",
    "xmove = widgets.BoundedIntText(\n",
    "    value = 0,\n",
    "    min = 0,\n",
    "    max = 1500,\n",
    "    step = 1,\n",
    "    description='Move X:',\n",
    "    disabled=False\n",
    ")\n",
    "ymove = widgets.BoundedIntText(\n",
    "   value = 0,\n",
    "    min = 0,\n",
    "    max = 1500,\n",
    "    step = 1,\n",
    "    description='Move Y:',\n",
    "    disabled=False\n",
    ")\n",
    "scanner.on_click(scan_on_click)\n",
    "mover.on_click(move_on_click)\n",
    "reset.on_click(reset_on_click)"
   ]
  },
  {
   "cell_type": "code",
   "execution_count": 7,
   "id": "9d482e1f",
   "metadata": {},
   "outputs": [],
   "source": [
    "#Interacive output function\n",
    "def convert_to_nm(coordinate):\n",
    "    print(coordinate * 20)\n",
    "    return\n",
    "x_start_nm = widgets.interactive_output(convert_to_nm, {'coordinate': xstart})\n",
    "x_end_nm = widgets.interactive_output(convert_to_nm, {'coordinate': xend})\n",
    "y_start_nm = widgets.interactive_output(convert_to_nm, {'coordinate': ystart})\n",
    "y_end_nm = widgets.interactive_output(convert_to_nm, {'coordinate': yend})\n"
   ]
  },
  {
   "cell_type": "code",
   "execution_count": 8,
   "id": "ced904a9",
   "metadata": {
    "scrolled": true
   },
   "outputs": [
    {
     "data": {
      "application/vnd.jupyter.widget-view+json": {
       "model_id": "56b2fe24de6e443e805c49f59956bfee",
       "version_major": 2,
       "version_minor": 0
      },
      "text/plain": [
       "HBox(children=(VBox(children=(BoundedIntText(value=0, description='X Start:', max=1500), BoundedIntText(value=…"
      ]
     },
     "metadata": {},
     "output_type": "display_data"
    }
   ],
   "source": [
    "widgets.HBox([widgets.VBox([xstart, xend, ystart, yend, res, scanner,reset]) , widgets.VBox([x_start_nm, x_end_nm, y_start_nm, y_end_nm]),widgets.VBox([xmove,ymove, mover])])\n"
   ]
  },
  {
   "cell_type": "code",
   "execution_count": null,
   "id": "c386b78d",
   "metadata": {},
   "outputs": [],
   "source": []
  },
  {
   "cell_type": "code",
   "execution_count": null,
   "id": "667066e0",
   "metadata": {},
   "outputs": [],
   "source": []
  },
  {
   "cell_type": "code",
   "execution_count": null,
   "id": "a676172a",
   "metadata": {},
   "outputs": [],
   "source": []
  }
 ],
 "metadata": {
  "kernelspec": {
   "display_name": "Python 3 (ipykernel)",
   "language": "python",
   "name": "python3"
  },
  "language_info": {
   "codemirror_mode": {
    "name": "ipython",
    "version": 3
   },
   "file_extension": ".py",
   "mimetype": "text/x-python",
   "name": "python",
   "nbconvert_exporter": "python",
   "pygments_lexer": "ipython3",
   "version": "3.9.12"
  }
 },
 "nbformat": 4,
 "nbformat_minor": 5
}
